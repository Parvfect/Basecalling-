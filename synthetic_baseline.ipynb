{
 "cells": [
  {
   "cell_type": "markdown",
   "id": "cf4ee171-49a5-470e-9023-d6f56f83cb5d",
   "metadata": {},
   "source": [
    "## Synthetic Baseline\n",
    "Running Basecalling using Dorado and checking accuracy metrics for Motif Detection using the Synthetic Dataset created"
   ]
  },
  {
   "cell_type": "markdown",
   "id": "adaaae28-970a-4df1-a60d-0c61e63f8644",
   "metadata": {},
   "source": [
    "### Setup"
   ]
  },
  {
   "cell_type": "code",
   "execution_count": 3,
   "id": "11fb8fc6-2127-4ab8-9175-c46063821774",
   "metadata": {},
   "outputs": [
    {
     "data": {
      "text/html": [
       "<div>\n",
       "<style scoped>\n",
       "    .dataframe tbody tr th:only-of-type {\n",
       "        vertical-align: middle;\n",
       "    }\n",
       "\n",
       "    .dataframe tbody tr th {\n",
       "        vertical-align: top;\n",
       "    }\n",
       "\n",
       "    .dataframe thead th {\n",
       "        text-align: right;\n",
       "    }\n",
       "</style>\n",
       "<table border=\"1\" class=\"dataframe\">\n",
       "  <thead>\n",
       "    <tr style=\"text-align: right;\">\n",
       "      <th></th>\n",
       "      <th>Squiggle</th>\n",
       "      <th>Bases</th>\n",
       "      <th>Motifs</th>\n",
       "    </tr>\n",
       "  </thead>\n",
       "  <tbody>\n",
       "    <tr>\n",
       "      <th>0</th>\n",
       "      <td>[509, 509, 492, 507, 493, 498, 484, 495, 494, ...</td>\n",
       "      <td>CTAAGCTACGATCATCGCAAGCTTAGACAGTCTAGCTCGTACGTTC...</td>\n",
       "      <td>7064499647480989982503691708864342736221395068...</td>\n",
       "    </tr>\n",
       "    <tr>\n",
       "      <th>1</th>\n",
       "      <td>[503, 503, 491, 495, 493, 499, 497, 496, 489, ...</td>\n",
       "      <td>TCGAGTACCGAATCTGGTAAGCTACGATCATCGCAAGCTTAGACAT...</td>\n",
       "      <td>6780778990100936425515037039275516771585374937...</td>\n",
       "    </tr>\n",
       "    <tr>\n",
       "      <th>2</th>\n",
       "      <td>[466, 457, 460, 454, 459, 462, 459, 464, 472, ...</td>\n",
       "      <td>TGAAGCTGACTATGAGGTCTGCCTTACACAAGTCGTCTCGTTGCAT...</td>\n",
       "      <td>3442889120067265698264494267153806625359098774...</td>\n",
       "    </tr>\n",
       "    <tr>\n",
       "      <th>3</th>\n",
       "      <td>[433, 430, 445, 428, 432, 433, 434, 434, 437, ...</td>\n",
       "      <td>AGATCGTCAGCTTCAGTCTAGCTCGTACGTTCGACTATGAGGTCTG...</td>\n",
       "      <td>0375880578666488625417841725459385174412201173...</td>\n",
       "    </tr>\n",
       "    <tr>\n",
       "      <th>4</th>\n",
       "      <td>[373, 376, 378, 381, 385, 386, 378, 375, 381, ...</td>\n",
       "      <td>CGAATCTGGTAAGCTATCCAGTAGATCGTCAGCTTCAAGTCGTCTC...</td>\n",
       "      <td>5470577790954764452442925325214768421237927304...</td>\n",
       "    </tr>\n",
       "  </tbody>\n",
       "</table>\n",
       "</div>"
      ],
      "text/plain": [
       "                                            Squiggle  \\\n",
       "0  [509, 509, 492, 507, 493, 498, 484, 495, 494, ...   \n",
       "1  [503, 503, 491, 495, 493, 499, 497, 496, 489, ...   \n",
       "2  [466, 457, 460, 454, 459, 462, 459, 464, 472, ...   \n",
       "3  [433, 430, 445, 428, 432, 433, 434, 434, 437, ...   \n",
       "4  [373, 376, 378, 381, 385, 386, 378, 375, 381, ...   \n",
       "\n",
       "                                               Bases  \\\n",
       "0  CTAAGCTACGATCATCGCAAGCTTAGACAGTCTAGCTCGTACGTTC...   \n",
       "1  TCGAGTACCGAATCTGGTAAGCTACGATCATCGCAAGCTTAGACAT...   \n",
       "2  TGAAGCTGACTATGAGGTCTGCCTTACACAAGTCGTCTCGTTGCAT...   \n",
       "3  AGATCGTCAGCTTCAGTCTAGCTCGTACGTTCGACTATGAGGTCTG...   \n",
       "4  CGAATCTGGTAAGCTATCCAGTAGATCGTCAGCTTCAAGTCGTCTC...   \n",
       "\n",
       "                                              Motifs  \n",
       "0  7064499647480989982503691708864342736221395068...  \n",
       "1  6780778990100936425515037039275516771585374937...  \n",
       "2  3442889120067265698264494267153806625359098774...  \n",
       "3  0375880578666488625417841725459385174412201173...  \n",
       "4  5470577790954764452442925325214768421237927304...  "
      ]
     },
     "execution_count": 3,
     "metadata": {},
     "output_type": "execute_result"
    }
   ],
   "source": [
    "import pandas as pd\n",
    "\n",
    "dataset = pd.read_pickle(\"synth_dataset.pkl\")\n",
    "dataset.head()"
   ]
  },
  {
   "cell_type": "code",
   "execution_count": 4,
   "id": "ca28dc84-0576-4574-8e9d-54f275163a60",
   "metadata": {},
   "outputs": [],
   "source": [
    "motif_choices = [\n",
    "    \"AGTCTAGCTCGTACGTTCGA\",\n",
    "    \"TGGCACTCATCAATCCGTAT\",\n",
    "    \"GACTTGCAATCGCTAAGCTA\",\n",
    "    \"CTATGAGGTCTGCCTTACAC\",\n",
    "    \"AAGTCGTCTCGTTGCATCGA\",\n",
    "    \"TCCAGTAGATCGTCAGCTTC\",\n",
    "    \"GTACCGAATCTGGTAAGCTA\",\n",
    "    \"CGATCATCGCAAGCTTAGAC\",\n",
    "    \"ATTCGTCGAACATGCTTCCA\",\n",
    "    \"GCTACTCGACTTGAAGCTGA\"\n",
    "]"
   ]
  },
  {
   "cell_type": "code",
   "execution_count": null,
   "id": "a41b5905-d9af-4731-ab21-eceaa2c3c35d",
   "metadata": {},
   "outputs": [],
   "source": []
  }
 ],
 "metadata": {
  "kernelspec": {
   "display_name": "Python 3 (ipykernel)",
   "language": "python",
   "name": "python3"
  },
  "language_info": {
   "codemirror_mode": {
    "name": "ipython",
    "version": 3
   },
   "file_extension": ".py",
   "mimetype": "text/x-python",
   "name": "python",
   "nbconvert_exporter": "python",
   "pygments_lexer": "ipython3",
   "version": "3.9.2"
  }
 },
 "nbformat": 4,
 "nbformat_minor": 5
}
