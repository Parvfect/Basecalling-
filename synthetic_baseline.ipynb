{
 "cells": [
  {
   "cell_type": "markdown",
   "id": "cf4ee171-49a5-470e-9023-d6f56f83cb5d",
   "metadata": {},
   "source": [
    "## Synthetic Baseline\n",
    "Running Basecalling using Dorado and checking accuracy metrics for Motif Detection using the Synthetic Dataset created"
   ]
  },
  {
   "cell_type": "markdown",
   "id": "adaaae28-970a-4df1-a60d-0c61e63f8644",
   "metadata": {},
   "source": [
    "### Setup"
   ]
  },
  {
   "cell_type": "code",
   "execution_count": 1,
   "id": "11fb8fc6-2127-4ab8-9175-c46063821774",
   "metadata": {},
   "outputs": [
    {
     "data": {
      "text/html": [
       "<div>\n",
       "<style scoped>\n",
       "    .dataframe tbody tr th:only-of-type {\n",
       "        vertical-align: middle;\n",
       "    }\n",
       "\n",
       "    .dataframe tbody tr th {\n",
       "        vertical-align: top;\n",
       "    }\n",
       "\n",
       "    .dataframe thead th {\n",
       "        text-align: right;\n",
       "    }\n",
       "</style>\n",
       "<table border=\"1\" class=\"dataframe\">\n",
       "  <thead>\n",
       "    <tr style=\"text-align: right;\">\n",
       "      <th></th>\n",
       "      <th>read_id</th>\n",
       "      <th>base_seq</th>\n",
       "      <th>motif_seq</th>\n",
       "      <th>squiggle</th>\n",
       "    </tr>\n",
       "  </thead>\n",
       "  <tbody>\n",
       "    <tr>\n",
       "      <th>0</th>\n",
       "      <td>S1_1!seq_3789!441!1000!+</td>\n",
       "      <td>TACCGAATCTGGTAAGCTAAAGTCGTCTCGTTGCATCGAAAGTCGT...</td>\n",
       "      <td>448032759800276471051389727</td>\n",
       "      <td>[525, 520, 529, 532, 526, 521, 525, 518, 526, ...</td>\n",
       "    </tr>\n",
       "    <tr>\n",
       "      <th>1</th>\n",
       "      <td>S1_10!seq_3785!180!1000!-</td>\n",
       "      <td>AGTCTAGCTCGTACGTTCGAGACTTGCAATCGCTAAGCTAAAGTCG...</td>\n",
       "      <td>2414234129277705527229226850840105263073</td>\n",
       "      <td>[456, 454, 465, 454, 473, 450, 456, 452, 512, ...</td>\n",
       "    </tr>\n",
       "    <tr>\n",
       "      <th>2</th>\n",
       "      <td>S1_100!seq_3789!630!1000!+</td>\n",
       "      <td>TTGAAGCTGAATTCGTCGAACATGCTTCCAAGTCTAGCTCGTACGT...</td>\n",
       "      <td>800276471051389727</td>\n",
       "      <td>[497, 502, 491, 497, 480, 494, 478, 498, 493, ...</td>\n",
       "    </tr>\n",
       "    <tr>\n",
       "      <th>3</th>\n",
       "      <td>S1_1000!seq_3782!679!1000!+</td>\n",
       "      <td>CATTCGTCGAACATGCTTCCAAGTCTAGCTCGTACGTTCGAAAGTC...</td>\n",
       "      <td>8049127409240628</td>\n",
       "      <td>[495, 501, 492, 493, 479, 509, 482, 520, 519, ...</td>\n",
       "    </tr>\n",
       "    <tr>\n",
       "      <th>4</th>\n",
       "      <td>S1_1001!seq_3784!429!1000!+</td>\n",
       "      <td>CAAGCTTAGACAGTCTAGCTCGTACGTTCGAGCTACTCGACTTGAA...</td>\n",
       "      <td>0935479054849128404617924203</td>\n",
       "      <td>[443, 440, 443, 438, 446, 443, 446, 449, 441, ...</td>\n",
       "    </tr>\n",
       "  </tbody>\n",
       "</table>\n",
       "</div>"
      ],
      "text/plain": [
       "                       read_id  \\\n",
       "0     S1_1!seq_3789!441!1000!+   \n",
       "1    S1_10!seq_3785!180!1000!-   \n",
       "2   S1_100!seq_3789!630!1000!+   \n",
       "3  S1_1000!seq_3782!679!1000!+   \n",
       "4  S1_1001!seq_3784!429!1000!+   \n",
       "\n",
       "                                            base_seq  \\\n",
       "0  TACCGAATCTGGTAAGCTAAAGTCGTCTCGTTGCATCGAAAGTCGT...   \n",
       "1  AGTCTAGCTCGTACGTTCGAGACTTGCAATCGCTAAGCTAAAGTCG...   \n",
       "2  TTGAAGCTGAATTCGTCGAACATGCTTCCAAGTCTAGCTCGTACGT...   \n",
       "3  CATTCGTCGAACATGCTTCCAAGTCTAGCTCGTACGTTCGAAAGTC...   \n",
       "4  CAAGCTTAGACAGTCTAGCTCGTACGTTCGAGCTACTCGACTTGAA...   \n",
       "\n",
       "                                  motif_seq  \\\n",
       "0               448032759800276471051389727   \n",
       "1  2414234129277705527229226850840105263073   \n",
       "2                        800276471051389727   \n",
       "3                          8049127409240628   \n",
       "4              0935479054849128404617924203   \n",
       "\n",
       "                                            squiggle  \n",
       "0  [525, 520, 529, 532, 526, 521, 525, 518, 526, ...  \n",
       "1  [456, 454, 465, 454, 473, 450, 456, 452, 512, ...  \n",
       "2  [497, 502, 491, 497, 480, 494, 478, 498, 493, ...  \n",
       "3  [495, 501, 492, 493, 479, 509, 482, 520, 519, ...  \n",
       "4  [443, 440, 443, 438, 446, 443, 446, 449, 441, ...  "
      ]
     },
     "execution_count": 1,
     "metadata": {},
     "output_type": "execute_result"
    }
   ],
   "source": [
    "import pandas as pd\n",
    "\n",
    "import os\n",
    "\n",
    "# Changing directory to where everything is stored\n",
    "os.chdir(r\"C:\\Users\\Parv\\Doc\\HelixWorks\\Basecalling\\code\")\n",
    "\n",
    "dataset = pd.read_pickle(\"short_read.pkl\")\n",
    "dataset.head()"
   ]
  },
  {
   "cell_type": "code",
   "execution_count": 2,
   "id": "ca28dc84-0576-4574-8e9d-54f275163a60",
   "metadata": {},
   "outputs": [],
   "source": [
    "motif_choices = [\n",
    "    \"AGTCTAGCTCGTACGTTCGA\",\n",
    "    \"TGGCACTCATCAATCCGTAT\",\n",
    "    \"GACTTGCAATCGCTAAGCTA\",\n",
    "    \"CTATGAGGTCTGCCTTACAC\",\n",
    "    \"AAGTCGTCTCGTTGCATCGA\",\n",
    "    \"TCCAGTAGATCGTCAGCTTC\",\n",
    "    \"GTACCGAATCTGGTAAGCTA\",\n",
    "    \"CGATCATCGCAAGCTTAGAC\",\n",
    "    \"ATTCGTCGAACATGCTTCCA\",\n",
    "    \"GCTACTCGACTTGAAGCTGA\"\n",
    "]"
   ]
  },
  {
   "cell_type": "markdown",
   "id": "e524f108-536e-4128-8d29-57280a564cd6",
   "metadata": {},
   "source": [
    "### Basecalled file"
   ]
  },
  {
   "cell_type": "markdown",
   "id": "14128280-94f6-458e-85f4-1c077eaa73a5",
   "metadata": {},
   "source": [
    "I wonder what the formatting is going to be, but it may have sampled from the squiggle. If it is a direct translation, then it really helps me out, we can compare at base level, whole motif reconstruction, and with an appropiate motif search algorithm (basically, given the information, can we create a motif algorithm to determine the motif at that position"
   ]
  },
  {
   "cell_type": "code",
   "execution_count": 3,
   "id": "862f2764-b9b3-466a-a798-123a318e9659",
   "metadata": {},
   "outputs": [],
   "source": [
    "reads = pd.read_pickle(\"basecalled_reads_short_read.pkl\")"
   ]
  },
  {
   "cell_type": "code",
   "execution_count": 4,
   "id": "5a64e7b4-9019-4e3a-9a94-52f1a394e87d",
   "metadata": {},
   "outputs": [
    {
     "data": {
      "text/html": [
       "<div>\n",
       "<style scoped>\n",
       "    .dataframe tbody tr th:only-of-type {\n",
       "        vertical-align: middle;\n",
       "    }\n",
       "\n",
       "    .dataframe tbody tr th {\n",
       "        vertical-align: top;\n",
       "    }\n",
       "\n",
       "    .dataframe thead th {\n",
       "        text-align: right;\n",
       "    }\n",
       "</style>\n",
       "<table border=\"1\" class=\"dataframe\">\n",
       "  <thead>\n",
       "    <tr style=\"text-align: right;\">\n",
       "      <th></th>\n",
       "      <th>read_id</th>\n",
       "      <th>read</th>\n",
       "    </tr>\n",
       "  </thead>\n",
       "  <tbody>\n",
       "    <tr>\n",
       "      <th>0</th>\n",
       "      <td>S1_1!seq_3789!441!1000!+</td>\n",
       "      <td>AATCTGGTAAGCTAAAGTCGTCTCGTTGCATCGAAAGTCGTCTCGT...</td>\n",
       "    </tr>\n",
       "    <tr>\n",
       "      <th>1</th>\n",
       "      <td>S1_100!seq_3789!630!1000!+</td>\n",
       "      <td>AGCTGAATTCGTCGAACATGCTTCAAGTCTAGCTCGTACGTTCGAA...</td>\n",
       "    </tr>\n",
       "    <tr>\n",
       "      <th>2</th>\n",
       "      <td>S1_1001!seq_3784!429!1000!+</td>\n",
       "      <td>GCTTAGACAGTCTAGCTCGTACGTTCCCGAGCTACTCGACTTGAAG...</td>\n",
       "    </tr>\n",
       "    <tr>\n",
       "      <th>3</th>\n",
       "      <td>S1_1003!seq_3789!639!1000!+</td>\n",
       "      <td>CGTCGAACATGCTTCAAGTCTAGCTCGTACGTTCGAAGTCTAGCTC...</td>\n",
       "    </tr>\n",
       "    <tr>\n",
       "      <th>4</th>\n",
       "      <td>S1_1005!seq_3788!234!1000!-</td>\n",
       "      <td>GCATGTTCGACGAATTCGAACGTACGAACTAGACTAGAACGTGAGC...</td>\n",
       "    </tr>\n",
       "  </tbody>\n",
       "</table>\n",
       "</div>"
      ],
      "text/plain": [
       "                       read_id  \\\n",
       "0     S1_1!seq_3789!441!1000!+   \n",
       "1   S1_100!seq_3789!630!1000!+   \n",
       "2  S1_1001!seq_3784!429!1000!+   \n",
       "3  S1_1003!seq_3789!639!1000!+   \n",
       "4  S1_1005!seq_3788!234!1000!-   \n",
       "\n",
       "                                                read  \n",
       "0  AATCTGGTAAGCTAAAGTCGTCTCGTTGCATCGAAAGTCGTCTCGT...  \n",
       "1  AGCTGAATTCGTCGAACATGCTTCAAGTCTAGCTCGTACGTTCGAA...  \n",
       "2  GCTTAGACAGTCTAGCTCGTACGTTCCCGAGCTACTCGACTTGAAG...  \n",
       "3  CGTCGAACATGCTTCAAGTCTAGCTCGTACGTTCGAAGTCTAGCTC...  \n",
       "4  GCATGTTCGACGAATTCGAACGTACGAACTAGACTAGAACGTGAGC...  "
      ]
     },
     "execution_count": 4,
     "metadata": {},
     "output_type": "execute_result"
    }
   ],
   "source": [
    "reads.head()"
   ]
  },
  {
   "cell_type": "code",
   "execution_count": 5,
   "id": "835595b9-6098-4379-9442-20a49fbd8831",
   "metadata": {},
   "outputs": [],
   "source": [
    "dataset_read_ids = dataset['read_id'].to_numpy().tolist()\n",
    "dataset_bases = dataset['base_seq'].to_numpy().tolist()\n",
    "dataset_motifs = dataset['motif_seq'].to_numpy().tolist()"
   ]
  },
  {
   "cell_type": "code",
   "execution_count": 6,
   "id": "dbbb90ff-c082-4b96-87b5-9c9a50c451d3",
   "metadata": {},
   "outputs": [],
   "source": [
    "dataset_dict = {}\n",
    "for i in range(len(dataset_read_ids)):\n",
    "    dataset_dict[dataset_read_ids[i]] = (dataset_bases[i], dataset_motifs[i])"
   ]
  },
  {
   "cell_type": "code",
   "execution_count": 7,
   "id": "4f509f45-c3a9-42da-b332-0892a353c743",
   "metadata": {},
   "outputs": [],
   "source": [
    "reads_read_ids = reads['read_id'].to_numpy().tolist()\n",
    "reads_bases = reads['read'].to_numpy().tolist()"
   ]
  },
  {
   "cell_type": "code",
   "execution_count": 8,
   "id": "8918e9da-a2c8-4382-b9dc-8abf65364103",
   "metadata": {},
   "outputs": [],
   "source": [
    "reads_dict = {}\n",
    "for i in range(len(reads_read_ids)):\n",
    "    reads_dict[reads_read_ids[i]] = reads_bases[i]"
   ]
  },
  {
   "cell_type": "code",
   "execution_count": 9,
   "id": "71632343-bc60-4d7f-9355-d396fc585e2a",
   "metadata": {},
   "outputs": [
    {
     "name": "stdout",
     "output_type": "stream",
     "text": [
      "144\n",
      "552\n",
      "0.2608695652173913\n",
      "61\n",
      "359\n",
      "0.16991643454038996\n",
      "119\n",
      "557\n",
      "0.21364452423698385\n",
      "83\n",
      "343\n",
      "0.24198250728862974\n",
      "183\n",
      "743\n",
      "0.24629878869448182\n"
     ]
    }
   ],
   "source": [
    "base_error_rate = []\n",
    "for read_id in reads_read_ids[:5]:\n",
    "    dataset_bases = dataset_dict[read_id][0]\n",
    "    reads_bases = reads_dict[read_id]\n",
    "    n_bases = 0 \n",
    "    correct_bases = 0\n",
    "    extras = 0\n",
    "    for base_ptr in range(len(reads_bases)):\n",
    "        n_bases += 1 \n",
    "        try:\n",
    "            if dataset_bases[base_ptr] == reads_bases[base_ptr]:\n",
    "                correct_bases+=1\n",
    "        except:\n",
    "            extras+=1\n",
    "    print(correct_bases)\n",
    "    print(n_bases)\n",
    "    base_level_acc = correct_bases/n_bases\n",
    "    print(base_level_acc)\n",
    "    base_error_rate.append(base_level_acc)\n",
    "    "
   ]
  },
  {
   "cell_type": "code",
   "execution_count": 10,
   "id": "ef30386e-4958-4ac2-9955-18bc9a51409e",
   "metadata": {},
   "outputs": [],
   "source": [
    "\n",
    "read_id = reads_read_ids[8]\n",
    "\n",
    "def count_freq(basepair_str):\n",
    "    count_dict = {'A':0,'C':0, 'T':0, 'G':0}\n",
    "    for base in basepair_str:\n",
    "        count_dict[base] += 1\n",
    "    return count_dict\n",
    "\n",
    "# Checking if aligning will help\n",
    "dataset_bases = dataset_dict[read_id][0]\n",
    "\n",
    "count_dict_dataset = count_freq(dataset_bases)"
   ]
  },
  {
   "cell_type": "code",
   "execution_count": 11,
   "id": "86f061f9-4488-4c68-914b-133093b34289",
   "metadata": {},
   "outputs": [
    {
     "data": {
      "text/plain": [
       "{'A': 193, 'C': 209, 'T': 213, 'G': 169}"
      ]
     },
     "execution_count": 11,
     "metadata": {},
     "output_type": "execute_result"
    }
   ],
   "source": [
    "count_dict_dataset"
   ]
  },
  {
   "cell_type": "code",
   "execution_count": 12,
   "id": "4e245e9c-4d88-4a5b-b051-feee70125af5",
   "metadata": {},
   "outputs": [
    {
     "data": {
      "text/plain": [
       "{'A': 188, 'C': 204, 'T': 210, 'G': 169}"
      ]
     },
     "execution_count": 12,
     "metadata": {},
     "output_type": "execute_result"
    }
   ],
   "source": [
    "reads_bases = reads_dict[read_id]\n",
    "reads_bases[:10]\n",
    "read_dict_dataset = count_freq(reads_bases)\n",
    "read_dict_dataset"
   ]
  },
  {
   "cell_type": "code",
   "execution_count": 14,
   "id": "7f530195-44c3-409a-8bec-ce5521c34d47",
   "metadata": {},
   "outputs": [
    {
     "name": "stdout",
     "output_type": "stream",
     "text": [
      "A\n",
      "C\n",
      "T\n",
      "G\n"
     ]
    }
   ],
   "source": [
    "for i in read_dict_dataset.keys():\n",
    "    print(i)"
   ]
  },
  {
   "cell_type": "code",
   "execution_count": 22,
   "id": "a4a2f63a-0c00-4d8b-b51a-5c80617b63d4",
   "metadata": {},
   "outputs": [
    {
     "data": {
      "text/plain": [
       "0.01597867194240635"
      ]
     },
     "execution_count": 22,
     "metadata": {},
     "output_type": "execute_result"
    }
   ],
   "source": [
    "import math\n",
    "\n",
    "def measure_count_error(count_dict, read_dict):\n",
    "    rel_error = 0\n",
    "    for key in read_dict.keys():\n",
    "        rel_error += abs(count_dict[key] - read_dict[key])/max(count_dict[key], read_dict[key])\n",
    "\n",
    "    return rel_error/4\n",
    "\n",
    "measure_count_error(count_dict_dataset, read_dict_dataset)"
   ]
  },
  {
   "cell_type": "code",
   "execution_count": 37,
   "id": "913de74d-bfaf-4904-a375-11d7abc45305",
   "metadata": {},
   "outputs": [
    {
     "name": "stdout",
     "output_type": "stream",
     "text": [
      "Error Rate\n",
      "9.878085557422496%\n"
     ]
    }
   ],
   "source": [
    "\n",
    "count_errs = []\n",
    "\n",
    "for read_id in reads_read_ids:\n",
    "    dataset_bases = dataset_dict[read_id][0]\n",
    "    reads_bases = reads_dict[read_id]\n",
    "    \n",
    "    count_dict_dataset = count_freq(dataset_bases)\n",
    "    read_dict_dataset = count_freq(reads_bases)\n",
    "\n",
    "    count_error = measure_count_error(count_dict_dataset, read_dict_dataset)\n",
    "    count_errs.append(count_error)\n",
    "\n",
    "print(\"Error Rate\")\n",
    "print(f\"{sum(count_errs)/len(count_errs) * 100}%\")"
   ]
  },
  {
   "cell_type": "code",
   "execution_count": 36,
   "id": "2f6318c3-4bf3-42d8-ad0e-fab3e6213f06",
   "metadata": {},
   "outputs": [
    {
     "name": "stdout",
     "output_type": "stream",
     "text": [
      "Accuracy in Counts\n",
      "90.1219144425775%\n"
     ]
    }
   ],
   "source": [
    "print(\"Accuracy in Counts\")\n",
    "print(f\"{100- (sum(count_errs)/len(count_errs) * 100)}%\")"
   ]
  }
 ],
 "metadata": {
  "kernelspec": {
   "display_name": "Python 3 (ipykernel)",
   "language": "python",
   "name": "python3"
  },
  "language_info": {
   "codemirror_mode": {
    "name": "ipython",
    "version": 3
   },
   "file_extension": ".py",
   "mimetype": "text/x-python",
   "name": "python",
   "nbconvert_exporter": "python",
   "pygments_lexer": "ipython3",
   "version": "3.9.2"
  }
 },
 "nbformat": 4,
 "nbformat_minor": 5
}
